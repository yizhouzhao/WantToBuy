{
 "cells": [
  {
   "cell_type": "code",
   "execution_count": 1,
   "metadata": {},
   "outputs": [],
   "source": [
    "#!pip install pyautogui pyperclip #smtplib ssl\n",
    "from utils import *"
   ]
  },
  {
   "cell_type": "code",
   "execution_count": 2,
   "metadata": {},
   "outputs": [],
   "source": [
    "#send_email(\"send email test 2\")"
   ]
  },
  {
   "cell_type": "code",
   "execution_count": 3,
   "metadata": {},
   "outputs": [
    {
     "data": {
      "text/plain": [
       "Point(x=1236, y=284)"
      ]
     },
     "execution_count": 3,
     "metadata": {},
     "output_type": "execute_result"
    }
   ],
   "source": [
    "pyautogui.position()    "
   ]
  },
  {
   "cell_type": "code",
   "execution_count": 4,
   "metadata": {},
   "outputs": [],
   "source": [
    "from configs import *"
   ]
  },
  {
   "cell_type": "code",
   "execution_count": 5,
   "metadata": {},
   "outputs": [
    {
     "data": {
      "text/plain": [
       "'Online Only\\r\\nFront Zoom. NVIDIA GeForce RTX 3060 Ti 8GB GDDR6 PCI Express 4.0 Graphics Card - Steel and Black.\\r\\nAlt View Zoom 1. NVIDIA GeForce RTX 3060 Ti 8GB GDDR6 PCI Express 4.0 Graphics Card - Steel and Black.\\r\\nAlt View Zoom 11. NVIDIA GeForce RTX 3060 Ti 8GB GDDR6 PCI Express 4.0 Graphics Card - Steel and Black.\\r\\nAlt View Zoom 12. NVIDIA GeForce RTX 3060 Ti 8GB GDDR6 PCI Express 4.0 Graphics Card - Steel and Black.\\r\\nAlt View Zoom 13. NVIDIA GeForce RTX 3060 Ti 8GB GDDR6 PCI Express 4.0 Graphics Card - Steel and Black.\\r\\nAlt View Zoom 14. NVIDIA GeForce RTX 3060 Ti 8GB GDDR6 PCI Express 4.0 Graphics Card - Steel and Black.\\r\\nInteractive Tour and documents\\r\\nPrice Match Guarantee\\r\\n$399.99Your price for this item is $399.99\\r\\nOr\\r\\n$33.34/mo.*See disclaimers from Show me how button 1\\r\\nsuggested payments with 12-Month Financing\\r\\nShow me how >\\r\\nEXTENDED HOLIDAY RETURN PERIOD\\r\\nWhen purchased now through Jan 2, you can return this item anytime until Jan 16.\\u2002Learn more ˃\\r\\n\\r\\nSold Out\\r\\n'"
      ]
     },
     "execution_count": 5,
     "metadata": {},
     "output_type": "execute_result"
    }
   ],
   "source": [
    "get_selling_info(bestbuy_3060_config)"
   ]
  },
  {
   "cell_type": "code",
   "execution_count": null,
   "metadata": {},
   "outputs": [],
   "source": [
    "while True:\n",
    "    print(\"Current time:\", time.strftime('%Y-%m-%d %H:%M:%S', time.localtime()))\n",
    "    bestbuy_3090 = get_selling_info(bestbuy_3090_config)\n",
    "    time.sleep(1)\n",
    "\n",
    "    if \"Sold Out\" in bestbuy_3090:\n",
    "        print(\"3090 has been sold out!\")\n",
    "    else:\n",
    "        print(\"3090 page change\")\n",
    "        send_email(\"bestbuy has 3090 page change\")\n",
    "        break\n",
    "\n",
    "    bestbuy_3080ti = get_selling_info(bestbuy_3080ti_config)\n",
    "    time.sleep(1)\n",
    "\n",
    "    if \"Sold Out\" in bestbuy_3080ti:\n",
    "        print(\"3080ti has been sold out!\")\n",
    "    else:\n",
    "        print(\"3080ti page change\")\n",
    "        send_email(\"bestbuy has 3080ti page change\")\n",
    "        break\n",
    "    \n",
    "    bestbuy_3080 = get_selling_info(bestbuy_3080_config)\n",
    "    time.sleep(1)\n",
    "\n",
    "    if \"Sold Out\" in bestbuy_3080:\n",
    "        print(\"3080 has been sold out!\")\n",
    "    else:\n",
    "        print(\"3080 page change\")\n",
    "        send_email(\"bestbuy has 3080 page change\")\n",
    "        break\n",
    "\n",
    "    bestbuy_3060 = get_selling_info(bestbuy_3060_config)\n",
    "    time.sleep(1)\n",
    "    \n",
    "    if \"Sold Out\" in bestbuy_3060:\n",
    "        print(\"3060 has been sold out!\")\n",
    "    else:\n",
    "        print(\"3060 page change\")\n",
    "        send_email(\"bestbuy has 3060 page change\")\n",
    "        break\n",
    "        \n",
    "    time.sleep(60)\n",
    "\n",
    "    "
   ]
  },
  {
   "cell_type": "code",
   "execution_count": null,
   "metadata": {},
   "outputs": [],
   "source": []
  }
 ],
 "metadata": {
  "interpreter": {
   "hash": "73e03da126b73bfff3642ec5261d56fa25c444ea595de51041687efaa60dda41"
  },
  "kernelspec": {
   "display_name": "Python 3.7.4 64-bit ('base': conda)",
   "name": "python3"
  },
  "language_info": {
   "codemirror_mode": {
    "name": "ipython",
    "version": 3
   },
   "file_extension": ".py",
   "mimetype": "text/x-python",
   "name": "python",
   "nbconvert_exporter": "python",
   "pygments_lexer": "ipython3",
   "version": "3.7.4"
  },
  "orig_nbformat": 4
 },
 "nbformat": 4,
 "nbformat_minor": 2
}
