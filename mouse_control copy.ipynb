{
 "cells": [
  {
   "cell_type": "code",
   "execution_count": null,
   "metadata": {},
   "outputs": [],
   "source": [
    "#!pip install pyautogui pyperclip"
   ]
  },
  {
   "cell_type": "code",
   "execution_count": 1,
   "metadata": {},
   "outputs": [],
   "source": [
    "import time"
   ]
  },
  {
   "cell_type": "code",
   "execution_count": 2,
   "metadata": {},
   "outputs": [],
   "source": [
    "import smtplib, ssl"
   ]
  },
  {
   "cell_type": "code",
   "execution_count": 3,
   "metadata": {},
   "outputs": [],
   "source": [
    "import pyautogui\n",
    "from pyautogui import press, typewrite, hotkey, click\n",
    "import pyperclip"
   ]
  },
  {
   "cell_type": "code",
   "execution_count": 4,
   "metadata": {},
   "outputs": [],
   "source": [
    "def send_email(information):\n",
    "    port = 587  # For starttls\n",
    "    smtp_server = \"smtp.gmail.com\" #\"outlook.office365.com\"\n",
    "    sender_email = \"realvcla@gmail.com\"\n",
    "    receiver_email_1 = \"yizhou_zhao@berkeley.edu\"\n",
    "    receiver_email_2 = \"va0817@g.ucla.edu\"\n",
    "    password = \"97654321abc\" #input(\"Type your password and press enter:\")\n",
    "    message = 'Subject: {}\\n\\n{}'.format(\"!!!GRAPHIC CARD NOTIFICATION!!!\", information)\n",
    "\n",
    "    context = ssl.create_default_context()\n",
    "    server = smtplib.SMTP(smtp_server, port)\n",
    "    server.starttls(context=context)\n",
    "    server.ehlo()\n",
    "    server.login(sender_email, password)\n",
    "    server.sendmail(sender_email, receiver_email_1, message)\n",
    "    server.quit()"
   ]
  },
  {
   "cell_type": "code",
   "execution_count": 5,
   "metadata": {},
   "outputs": [],
   "source": [
    "# send_email(\"send email test\")"
   ]
  },
  {
   "cell_type": "code",
   "execution_count": null,
   "metadata": {},
   "outputs": [],
   "source": [
    "pyautogui.position()"
   ]
  },
  {
   "cell_type": "code",
   "execution_count": null,
   "metadata": {},
   "outputs": [],
   "source": [
    "bestbuy_3080_config = {\n",
    "    \"url\": str(\"https://www.bestbuy.com/site/nvidia-geforce-rtx-3080-ti-12gb-gddr6x-pci-express-4-0-graphics-card-titanium-and-black/6462956.p?skuId=6462956\"),\n",
    "    \"chrome_position\": (1131, 2116),\n",
    "    \"search_bar_position\": (2958, 99),\n",
    "    \"sold_out_start\": (1947, 1082),\n",
    "    \"sold_out_end\": (2059, 1086),\n",
    "    \"close_position\": (3774, 48),\n",
    "}"
   ]
  },
  {
   "cell_type": "code",
   "execution_count": null,
   "metadata": {},
   "outputs": [],
   "source": [
    "def get_selling_info(config):\n",
    "    # resolve config\n",
    "    chrome_position = config[\"chrome_position\"]\n",
    "    search_bar_position = config[\"search_bar_position\"]\n",
    "    sold_out_start = config[\"sold_out_start\"]\n",
    "    sold_out_end = config[\"sold_out_end\"]\n",
    "    close_position = config[\"close_position\"]\n",
    "    url = str(config[\"url\"].encode().decode())\n",
    "    \n",
    "    pyperclip.copy(url)\n",
    "\n",
    "    # open chrome\n",
    "    click(chrome_position)    \n",
    "    time.sleep(3) \n",
    "\n",
    "    # go to url\n",
    "    click(search_bar_position)\n",
    "    \n",
    "    pyautogui.hotkey('ctrl', 'v')\n",
    "    #pyautogui.typewrite(url)\n",
    "    press('Enter')\n",
    "    time.sleep(3)\n",
    "\n",
    "    # get selling information\n",
    "    click(sold_out_start)\n",
    "    pyautogui.mouseDown(button='left')\n",
    "    pyautogui.moveTo(sold_out_end[0], sold_out_end[1], 1)\n",
    "    pyautogui.mouseUp(button='left')\n",
    "    pyautogui.hotkey('ctrl', 'c') \n",
    "    time.sleep(1) \n",
    "\n",
    "    # close chrome\n",
    "    click(close_position)\n",
    "\n",
    "    # get selling information\n",
    "    return pyperclip.paste()"
   ]
  },
  {
   "cell_type": "code",
   "execution_count": null,
   "metadata": {},
   "outputs": [],
   "source": [
    "get_selling_info(bestbuy_3080_config)"
   ]
  },
  {
   "cell_type": "code",
   "execution_count": null,
   "metadata": {},
   "outputs": [],
   "source": [
    "while True:\n",
    "    print(\"Current time:\", time.strftime('%Y-%m-%d %H:%M:%S', time.localtime()))\n",
    "    bestbuy_3080 = get_selling_info(bestbuy_3080_config)\n",
    "    if \"Sold Out\" in pyperclip.paste():\n",
    "        print(\"This item has been sold out!\")\n",
    "    else:\n",
    "        pass\n",
    "        #send_email(\"bestbuy has 3080 in stock\")\n",
    "        \n",
    "    time.sleep(5)\n",
    "\n",
    "    "
   ]
  },
  {
   "cell_type": "code",
   "execution_count": null,
   "metadata": {},
   "outputs": [],
   "source": []
  },
  {
   "cell_type": "code",
   "execution_count": null,
   "metadata": {},
   "outputs": [],
   "source": []
  },
  {
   "cell_type": "code",
   "execution_count": null,
   "metadata": {},
   "outputs": [],
   "source": []
  },
  {
   "cell_type": "code",
   "execution_count": null,
   "metadata": {},
   "outputs": [],
   "source": []
  },
  {
   "cell_type": "markdown",
   "metadata": {},
   "source": []
  },
  {
   "cell_type": "code",
   "execution_count": null,
   "metadata": {},
   "outputs": [],
   "source": []
  },
  {
   "cell_type": "code",
   "execution_count": null,
   "metadata": {},
   "outputs": [],
   "source": []
  },
  {
   "cell_type": "code",
   "execution_count": null,
   "metadata": {},
   "outputs": [],
   "source": []
  }
 ],
 "metadata": {
  "interpreter": {
   "hash": "261ef139f7336f1d3c63c113eb9a531b9ea949e0d3ab13fdcf2ac8100b0707e0"
  },
  "kernelspec": {
   "display_name": "Python 3.7.7 64-bit ('BarrageCount': conda)",
   "language": "python",
   "name": "python3"
  },
  "language_info": {
   "codemirror_mode": {
    "name": "ipython",
    "version": 3
   },
   "file_extension": ".py",
   "mimetype": "text/x-python",
   "name": "python",
   "nbconvert_exporter": "python",
   "pygments_lexer": "ipython3",
   "version": "3.7.7"
  },
  "orig_nbformat": 4
 },
 "nbformat": 4,
 "nbformat_minor": 2
}
